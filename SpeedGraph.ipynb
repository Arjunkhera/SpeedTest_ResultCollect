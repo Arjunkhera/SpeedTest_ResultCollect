{
 "cells": [
  {
   "cell_type": "markdown",
   "metadata": {},
   "source": [
    "# Export png image and csv results of speedtest bash script\n",
    "\n",
    "**Made by Arjun Khera**"
   ]
  },
  {
   "cell_type": "code",
   "execution_count": 389,
   "metadata": {},
   "outputs": [],
   "source": [
    "import numpy as np \n",
    "import pandas as pd\n",
    "import matplotlib.pyplot as plt\n",
    "import re \n",
    "import datetime\n",
    "import sys\n",
    "%matplotlib inline"
   ]
  },
  {
   "cell_type": "code",
   "execution_count": 390,
   "metadata": {
    "collapsed": true
   },
   "outputs": [],
   "source": [
    "daysOfWeek = [\"Sun\",\"Mon\",\"Tue\",\"Wed\",\"Thu\",\"Fri\",\"Sat\"]\n",
    "monthsofyear = [\"Jan\",\"Feb\",\"Mar\",\"Apr\",\"May\",\"Jun\",\"Jul\",\"Aug\",\"Sep\",\"Oct\",\"Nov\",\"Dec\"]"
   ]
  },
  {
   "cell_type": "code",
   "execution_count": 391,
   "metadata": {},
   "outputs": [],
   "source": [
    "# providing the file name through command line\n",
    "# filename =  sys.argv[1]\n",
    "\n",
    "# to manually provide the filename\n",
    "filename = \"log240318.txt\""
   ]
  },
  {
   "cell_type": "code",
   "execution_count": 392,
   "metadata": {},
   "outputs": [],
   "source": [
    "fin = open(filename, \"rt\") "
   ]
  },
  {
   "cell_type": "code",
   "execution_count": 393,
   "metadata": {
    "collapsed": true
   },
   "outputs": [],
   "source": [
    "downloadSpeed = []\n",
    "uploadSpeed = []\n",
    "time = []\n",
    "date = []\n",
    "day = []\n",
    "month = []\n",
    "year = []"
   ]
  },
  {
   "cell_type": "code",
   "execution_count": 394,
   "metadata": {},
   "outputs": [],
   "source": [
    "for i in fin:\n",
    "    # Obtain the time and day of test\n",
    "    for j in daysOfWeek:\n",
    "        if (i.startswith(j)):\n",
    "            strTime = ''.join(i)\n",
    "            day.append(j)\n",
    "            time.append(re.findall(r'\\d+',strTime))\n",
    "            break;\n",
    "    \n",
    "    # Obtain month of test\n",
    "    for k in monthsofyear:\n",
    "        if k in i:\n",
    "            month.append(k)\n",
    "            break;\n",
    "    \n",
    "    # Obtain download speed\n",
    "    if (i.startswith(\"Download\")):\n",
    "        strdown = ''.join(i)\n",
    "        downloadSpeed.append(re.findall(r'\\d+',strdown))\n",
    "    \n",
    "    # Obtain upload speed\n",
    "    if (i.startswith(\"Upload\")):\n",
    "        strup = ''.join(i)\n",
    "        uploadSpeed.append(re.findall(r'\\d+',strup))\n",
    "    "
   ]
  },
  {
   "cell_type": "code",
   "execution_count": 395,
   "metadata": {
    "collapsed": true
   },
   "outputs": [],
   "source": [
    "timereadings = []\n",
    "downloadreadings = []\n",
    "uploadreadings = []"
   ]
  },
  {
   "cell_type": "code",
   "execution_count": 396,
   "metadata": {
    "collapsed": true
   },
   "outputs": [],
   "source": [
    "for i in time:\n",
    "    date.append(i[0])\n",
    "    year.append(i[4])\n",
    "    timereadings.append(i[1]+\":\"+i[2])    "
   ]
  },
  {
   "cell_type": "code",
   "execution_count": 397,
   "metadata": {},
   "outputs": [
    {
     "data": {
      "text/plain": [
       "['20:02',\n",
       " '20:13',\n",
       " '20:24',\n",
       " '20:34',\n",
       " '20:45',\n",
       " '20:55',\n",
       " '21:06',\n",
       " '21:17',\n",
       " '21:48',\n",
       " '21:59',\n",
       " '22:10',\n",
       " '22:21',\n",
       " '22:31',\n",
       " '22:42',\n",
       " '22:53',\n",
       " '23:03',\n",
       " '23:14',\n",
       " '23:24',\n",
       " '23:35']"
      ]
     },
     "execution_count": 397,
     "metadata": {},
     "output_type": "execute_result"
    }
   ],
   "source": [
    "timereadings"
   ]
  },
  {
   "cell_type": "code",
   "execution_count": 398,
   "metadata": {},
   "outputs": [],
   "source": [
    "for i in downloadSpeed:\n",
    "    downloadreadings.append(i[0]+\".\"+i[1])"
   ]
  },
  {
   "cell_type": "code",
   "execution_count": 399,
   "metadata": {},
   "outputs": [
    {
     "data": {
      "text/plain": [
       "['17.18',\n",
       " '16.86',\n",
       " '17.39',\n",
       " '17.19',\n",
       " '17.00',\n",
       " '17.20',\n",
       " '17.20',\n",
       " '15.71',\n",
       " '17.10',\n",
       " '15.65',\n",
       " '17.23',\n",
       " '17.19',\n",
       " '16.21',\n",
       " '17.09',\n",
       " '17.25',\n",
       " '15.93',\n",
       " '17.50',\n",
       " '17.19',\n",
       " '16.28']"
      ]
     },
     "execution_count": 399,
     "metadata": {},
     "output_type": "execute_result"
    }
   ],
   "source": [
    "downloadreadings"
   ]
  },
  {
   "cell_type": "code",
   "execution_count": 400,
   "metadata": {},
   "outputs": [],
   "source": [
    "for i in uploadSpeed:\n",
    "    uploadreadings.append(i[0]+\".\"+i[1])"
   ]
  },
  {
   "cell_type": "code",
   "execution_count": 401,
   "metadata": {},
   "outputs": [
    {
     "data": {
      "text/plain": [
       "['2.66',\n",
       " '2.19',\n",
       " '2.11',\n",
       " '2.23',\n",
       " '2.20',\n",
       " '2.66',\n",
       " '2.65',\n",
       " '2.65',\n",
       " '2.54',\n",
       " '2.65',\n",
       " '2.62',\n",
       " '2.52',\n",
       " '2.50',\n",
       " '2.66',\n",
       " '2.55',\n",
       " '2.63',\n",
       " '2.66',\n",
       " '2.62',\n",
       " '2.49']"
      ]
     },
     "execution_count": 401,
     "metadata": {},
     "output_type": "execute_result"
    }
   ],
   "source": [
    "uploadreadings"
   ]
  },
  {
   "cell_type": "code",
   "execution_count": 402,
   "metadata": {
    "collapsed": true
   },
   "outputs": [],
   "source": [
    "xaxis = np.arange(len(timereadings))"
   ]
  },
  {
   "cell_type": "code",
   "execution_count": 403,
   "metadata": {},
   "outputs": [],
   "source": [
    "# construct a dataframe for exporting data as csv\n",
    "df = pd.DataFrame(list(zip(xaxis,date,day,month,timereadings,year,downloadreadings,uploadreadings)), columns = [\"Serial No\",\"Date\",\"Day\",\"Month\",\"Time\",\"Year\",\"Download Speed\",\"Upload Speed\"])"
   ]
  },
  {
   "cell_type": "code",
   "execution_count": 404,
   "metadata": {},
   "outputs": [
    {
     "data": {
      "text/html": [
       "<div>\n",
       "<style>\n",
       "    .dataframe thead tr:only-child th {\n",
       "        text-align: right;\n",
       "    }\n",
       "\n",
       "    .dataframe thead th {\n",
       "        text-align: left;\n",
       "    }\n",
       "\n",
       "    .dataframe tbody tr th {\n",
       "        vertical-align: top;\n",
       "    }\n",
       "</style>\n",
       "<table border=\"1\" class=\"dataframe\">\n",
       "  <thead>\n",
       "    <tr style=\"text-align: right;\">\n",
       "      <th></th>\n",
       "      <th>Serial No</th>\n",
       "      <th>Date</th>\n",
       "      <th>Day</th>\n",
       "      <th>Month</th>\n",
       "      <th>Time</th>\n",
       "      <th>Year</th>\n",
       "      <th>Download Speed</th>\n",
       "      <th>Upload Speed</th>\n",
       "    </tr>\n",
       "  </thead>\n",
       "  <tbody>\n",
       "    <tr>\n",
       "      <th>0</th>\n",
       "      <td>0</td>\n",
       "      <td>24</td>\n",
       "      <td>Sat</td>\n",
       "      <td>Mar</td>\n",
       "      <td>20:02</td>\n",
       "      <td>2018</td>\n",
       "      <td>17.18</td>\n",
       "      <td>2.66</td>\n",
       "    </tr>\n",
       "    <tr>\n",
       "      <th>1</th>\n",
       "      <td>1</td>\n",
       "      <td>24</td>\n",
       "      <td>Sat</td>\n",
       "      <td>Mar</td>\n",
       "      <td>20:13</td>\n",
       "      <td>2018</td>\n",
       "      <td>16.86</td>\n",
       "      <td>2.19</td>\n",
       "    </tr>\n",
       "    <tr>\n",
       "      <th>2</th>\n",
       "      <td>2</td>\n",
       "      <td>24</td>\n",
       "      <td>Sat</td>\n",
       "      <td>Mar</td>\n",
       "      <td>20:24</td>\n",
       "      <td>2018</td>\n",
       "      <td>17.39</td>\n",
       "      <td>2.11</td>\n",
       "    </tr>\n",
       "    <tr>\n",
       "      <th>3</th>\n",
       "      <td>3</td>\n",
       "      <td>24</td>\n",
       "      <td>Sat</td>\n",
       "      <td>Mar</td>\n",
       "      <td>20:34</td>\n",
       "      <td>2018</td>\n",
       "      <td>17.19</td>\n",
       "      <td>2.23</td>\n",
       "    </tr>\n",
       "    <tr>\n",
       "      <th>4</th>\n",
       "      <td>4</td>\n",
       "      <td>24</td>\n",
       "      <td>Sat</td>\n",
       "      <td>Mar</td>\n",
       "      <td>20:45</td>\n",
       "      <td>2018</td>\n",
       "      <td>17.00</td>\n",
       "      <td>2.20</td>\n",
       "    </tr>\n",
       "    <tr>\n",
       "      <th>5</th>\n",
       "      <td>5</td>\n",
       "      <td>24</td>\n",
       "      <td>Sat</td>\n",
       "      <td>Mar</td>\n",
       "      <td>20:55</td>\n",
       "      <td>2018</td>\n",
       "      <td>17.20</td>\n",
       "      <td>2.66</td>\n",
       "    </tr>\n",
       "    <tr>\n",
       "      <th>6</th>\n",
       "      <td>6</td>\n",
       "      <td>24</td>\n",
       "      <td>Sat</td>\n",
       "      <td>Mar</td>\n",
       "      <td>21:06</td>\n",
       "      <td>2018</td>\n",
       "      <td>17.20</td>\n",
       "      <td>2.65</td>\n",
       "    </tr>\n",
       "    <tr>\n",
       "      <th>7</th>\n",
       "      <td>7</td>\n",
       "      <td>24</td>\n",
       "      <td>Sat</td>\n",
       "      <td>Mar</td>\n",
       "      <td>21:17</td>\n",
       "      <td>2018</td>\n",
       "      <td>15.71</td>\n",
       "      <td>2.65</td>\n",
       "    </tr>\n",
       "    <tr>\n",
       "      <th>8</th>\n",
       "      <td>8</td>\n",
       "      <td>24</td>\n",
       "      <td>Sat</td>\n",
       "      <td>Mar</td>\n",
       "      <td>21:48</td>\n",
       "      <td>2018</td>\n",
       "      <td>17.10</td>\n",
       "      <td>2.54</td>\n",
       "    </tr>\n",
       "    <tr>\n",
       "      <th>9</th>\n",
       "      <td>9</td>\n",
       "      <td>24</td>\n",
       "      <td>Sat</td>\n",
       "      <td>Mar</td>\n",
       "      <td>21:59</td>\n",
       "      <td>2018</td>\n",
       "      <td>15.65</td>\n",
       "      <td>2.65</td>\n",
       "    </tr>\n",
       "    <tr>\n",
       "      <th>10</th>\n",
       "      <td>10</td>\n",
       "      <td>24</td>\n",
       "      <td>Sat</td>\n",
       "      <td>Mar</td>\n",
       "      <td>22:10</td>\n",
       "      <td>2018</td>\n",
       "      <td>17.23</td>\n",
       "      <td>2.62</td>\n",
       "    </tr>\n",
       "    <tr>\n",
       "      <th>11</th>\n",
       "      <td>11</td>\n",
       "      <td>24</td>\n",
       "      <td>Sat</td>\n",
       "      <td>Mar</td>\n",
       "      <td>22:21</td>\n",
       "      <td>2018</td>\n",
       "      <td>17.19</td>\n",
       "      <td>2.52</td>\n",
       "    </tr>\n",
       "    <tr>\n",
       "      <th>12</th>\n",
       "      <td>12</td>\n",
       "      <td>24</td>\n",
       "      <td>Sat</td>\n",
       "      <td>Mar</td>\n",
       "      <td>22:31</td>\n",
       "      <td>2018</td>\n",
       "      <td>16.21</td>\n",
       "      <td>2.50</td>\n",
       "    </tr>\n",
       "    <tr>\n",
       "      <th>13</th>\n",
       "      <td>13</td>\n",
       "      <td>24</td>\n",
       "      <td>Sat</td>\n",
       "      <td>Mar</td>\n",
       "      <td>22:42</td>\n",
       "      <td>2018</td>\n",
       "      <td>17.09</td>\n",
       "      <td>2.66</td>\n",
       "    </tr>\n",
       "    <tr>\n",
       "      <th>14</th>\n",
       "      <td>14</td>\n",
       "      <td>24</td>\n",
       "      <td>Sat</td>\n",
       "      <td>Mar</td>\n",
       "      <td>22:53</td>\n",
       "      <td>2018</td>\n",
       "      <td>17.25</td>\n",
       "      <td>2.55</td>\n",
       "    </tr>\n",
       "    <tr>\n",
       "      <th>15</th>\n",
       "      <td>15</td>\n",
       "      <td>24</td>\n",
       "      <td>Sat</td>\n",
       "      <td>Mar</td>\n",
       "      <td>23:03</td>\n",
       "      <td>2018</td>\n",
       "      <td>15.93</td>\n",
       "      <td>2.63</td>\n",
       "    </tr>\n",
       "    <tr>\n",
       "      <th>16</th>\n",
       "      <td>16</td>\n",
       "      <td>24</td>\n",
       "      <td>Sat</td>\n",
       "      <td>Mar</td>\n",
       "      <td>23:14</td>\n",
       "      <td>2018</td>\n",
       "      <td>17.50</td>\n",
       "      <td>2.66</td>\n",
       "    </tr>\n",
       "    <tr>\n",
       "      <th>17</th>\n",
       "      <td>17</td>\n",
       "      <td>24</td>\n",
       "      <td>Sat</td>\n",
       "      <td>Mar</td>\n",
       "      <td>23:24</td>\n",
       "      <td>2018</td>\n",
       "      <td>17.19</td>\n",
       "      <td>2.62</td>\n",
       "    </tr>\n",
       "    <tr>\n",
       "      <th>18</th>\n",
       "      <td>18</td>\n",
       "      <td>24</td>\n",
       "      <td>Sat</td>\n",
       "      <td>Mar</td>\n",
       "      <td>23:35</td>\n",
       "      <td>2018</td>\n",
       "      <td>16.28</td>\n",
       "      <td>2.49</td>\n",
       "    </tr>\n",
       "  </tbody>\n",
       "</table>\n",
       "</div>"
      ],
      "text/plain": [
       "    Serial No Date  Day Month   Time  Year Download Speed Upload Speed\n",
       "0           0   24  Sat   Mar  20:02  2018          17.18         2.66\n",
       "1           1   24  Sat   Mar  20:13  2018          16.86         2.19\n",
       "2           2   24  Sat   Mar  20:24  2018          17.39         2.11\n",
       "3           3   24  Sat   Mar  20:34  2018          17.19         2.23\n",
       "4           4   24  Sat   Mar  20:45  2018          17.00         2.20\n",
       "5           5   24  Sat   Mar  20:55  2018          17.20         2.66\n",
       "6           6   24  Sat   Mar  21:06  2018          17.20         2.65\n",
       "7           7   24  Sat   Mar  21:17  2018          15.71         2.65\n",
       "8           8   24  Sat   Mar  21:48  2018          17.10         2.54\n",
       "9           9   24  Sat   Mar  21:59  2018          15.65         2.65\n",
       "10         10   24  Sat   Mar  22:10  2018          17.23         2.62\n",
       "11         11   24  Sat   Mar  22:21  2018          17.19         2.52\n",
       "12         12   24  Sat   Mar  22:31  2018          16.21         2.50\n",
       "13         13   24  Sat   Mar  22:42  2018          17.09         2.66\n",
       "14         14   24  Sat   Mar  22:53  2018          17.25         2.55\n",
       "15         15   24  Sat   Mar  23:03  2018          15.93         2.63\n",
       "16         16   24  Sat   Mar  23:14  2018          17.50         2.66\n",
       "17         17   24  Sat   Mar  23:24  2018          17.19         2.62\n",
       "18         18   24  Sat   Mar  23:35  2018          16.28         2.49"
      ]
     },
     "execution_count": 404,
     "metadata": {},
     "output_type": "execute_result"
    }
   ],
   "source": [
    "df"
   ]
  },
  {
   "cell_type": "code",
   "execution_count": 405,
   "metadata": {},
   "outputs": [],
   "source": [
    "# export as csv\n",
    "df.to_csv(filename+\".csv\")"
   ]
  },
  {
   "cell_type": "code",
   "execution_count": 406,
   "metadata": {},
   "outputs": [
    {
     "data": {
      "image/png": "[encoded data removed]",
      "text/plain": [
       "<matplotlib.figure.Figure at 0x7f72fed8bb38>"
      ]
     },
     "metadata": {},
     "output_type": "display_data"
    }
   ],
   "source": [
    "# draw a graph of upload and download speeds against the timestamp pf readings\n",
    "\n",
    "fig,ax = plt.subplots()\n",
    "\n",
    "fig.set_figheight(5)\n",
    "fig.set_figwidth(7)\n",
    "\n",
    "\n",
    "ax.plot(xaxis,downloadreadings,'bo',label=\"Download\")\n",
    "ax.plot(xaxis,uploadreadings,'ro',label=\"Upload\")\n",
    "\n",
    "ax.set_xticklabels(timereadings)\n",
    "\n",
    "ax.set_title(\"Speed Test readings\")\n",
    "ax.legend(loc='upper right')\n",
    "ax.grid(color='k', linestyle='-', linewidth=0.5)\n",
    "\n",
    "ax.spines['bottom'].set_visible(False)\n",
    "ax.spines['top'].set_visible(False)\n",
    "ax.spines['left'].set_visible(False)\n",
    "ax.spines['right'].set_visible(False)\n",
    "\n",
    "plt.show()\n",
    "\n",
    "# export the graph as png\n",
    "fig.savefig(filename+\".png\")"
   ]
  },
  {
   "cell_type": "code",
   "execution_count": 407,
   "metadata": {},
   "outputs": [],
   "source": [
    "# close the file\n",
    "fin.close()                   "
   ]
  }
 ],
 "metadata": {
  "kernelspec": {
   "display_name": "Python [default]",
   "language": "python",
   "name": "python3"
  },
  "language_info": {
   "codemirror_mode": {
    "name": "ipython",
    "version": 3
   },
   "file_extension": ".py",
   "mimetype": "text/x-python",
   "name": "python",
   "nbconvert_exporter": "python",
   "pygments_lexer": "ipython3",
   "version": "3.5.3"
  }
 },
 "nbformat": 4,
 "nbformat_minor": 2
}
